{
 "cells": [
  {
   "cell_type": "code",
   "execution_count": 1,
   "metadata": {},
   "outputs": [
    {
     "data": {
      "text/plain": [
       "{'a': 1,\n",
       " 'am': 1,\n",
       " 'function': 1,\n",
       " 'i': 1,\n",
       " 'message': 1,\n",
       " 'my': 1,\n",
       " 'short': 1,\n",
       " 'testing': 1,\n",
       " 'text': 1,\n",
       " 'with': 1}"
      ]
     },
     "execution_count": 1,
     "metadata": {},
     "output_type": "execute_result"
    }
   ],
   "source": [
    "text = 'I am testing my function with a short text message'\n",
    "\n",
    "def count_words(text):\n",
    "  \"\"\"\n",
    "  Count the number of times each word occurs in text (str).\n",
    "  Return dictionary where keys are unique word and values\n",
    "  are word counts\n",
    "  \"\"\"\n",
    "  text = text.lower()    # turn every letter into lower case\n",
    "  skip_list = [',', '.', ':', ';', '?', '!', '\"', \"'\", \"-\"]\n",
    "  for ch in skip_list:\n",
    "    text = text.replace(ch, '')\n",
    "  word_counts = {}\n",
    "  for word in text.split(' '):\n",
    "    if word in word_counts:\n",
    "      word_counts[word] += 1\n",
    "    else:\n",
    "      word_counts[word] = 1\n",
    "  return word_counts\n",
    "\n",
    "count_words(text)"
   ]
  },
  {
   "cell_type": "code",
   "execution_count": null,
   "metadata": {
    "collapsed": true
   },
   "outputs": [],
   "source": []
  }
 ],
 "metadata": {
  "kernelspec": {
   "display_name": "Python 3",
   "language": "python",
   "name": "python3"
  },
  "language_info": {
   "codemirror_mode": {
    "name": "ipython",
    "version": 3
   },
   "file_extension": ".py",
   "mimetype": "text/x-python",
   "name": "python",
   "nbconvert_exporter": "python",
   "pygments_lexer": "ipython3",
   "version": "3.6.1"
  }
 },
 "nbformat": 4,
 "nbformat_minor": 2
}
