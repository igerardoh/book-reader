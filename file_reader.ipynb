{
 "cells": [
  {
   "cell_type": "markdown",
   "metadata": {},
   "source": [
    "I will create a code able to read several books in .pdf format and calculate the amount of unique words and their frequencies by language."
   ]
  },
  {
   "cell_type": "code",
   "execution_count": 8,
   "metadata": {},
   "outputs": [
    {
     "name": "stdout",
     "output_type": "stream",
     "text": [
      "                      words  freq\n",
      "0                   ﻿hamlet     1\n",
      "1                            3603\n",
      "2                     drama     8\n",
      "3                        em   237\n",
      "4                     cinco     5\n",
      "5                     actos    14\n",
      "6                   william     2\n",
      "7               shakespeare     2\n",
      "8                    hamlet   495\n",
      "9                 traducção     1\n",
      "10               portugueza     1\n",
      "11                  segunda     6\n",
      "12                   edição     1\n",
      "13                   lisboa     1\n",
      "14                 imprensa     1\n",
      "15                 nacional     1\n",
      "16                        0     8\n",
      "17           interlocutores     1\n",
      "18               claudiorei     1\n",
      "19                       de   752\n",
      "20                dinamarca    29\n",
      "21              hamletfilho     1\n",
      "22                       do   302\n",
      "23                  defunto     5\n",
      "24                      rei   239\n",
      "25                        e   888\n",
      "26                 sobrinho     7\n",
      "27                 reinante     1\n",
      "28         poloniocamareiro     1\n",
      "29                      mór     1\n",
      "...                     ...   ...\n",
      "7174                 credit     1\n",
      "7175                   card     1\n",
      "7176  http//pglaforg/donate     1\n",
      "7177              professor     1\n",
      "7178             originator     1\n",
      "7179                library     1\n",
      "7180                  could     1\n",
      "7181                 shared     1\n",
      "7182                 thirty     1\n",
      "7183                  years     1\n",
      "7184                  loose     1\n",
      "7185                network     1\n",
      "7186              volunteer     1\n",
      "7187                  often     1\n",
      "7188                several     1\n",
      "7189              confirmed     1\n",
      "7190                   thus     1\n",
      "7191            necessarily     1\n",
      "7192                  paper     1\n",
      "7193                edition     1\n",
      "7194                   main     1\n",
      "7195                     pg     1\n",
      "7196                 search     1\n",
      "7197               facility     1\n",
      "7198  http//wwwgutenbergorg     1\n",
      "7199               includes     1\n",
      "7200                produce     1\n",
      "7201              subscribe     1\n",
      "7202             newsletter     1\n",
      "7203                   hear     1\n",
      "\n",
      "[7204 rows x 2 columns]\n"
     ]
    }
   ],
   "source": [
    "import os\n",
    "import pandas as pd\n",
    "\n",
    "book_dir = './Books'   # makes reference to the folder with all the files\n",
    "\n",
    "for language in os.listdir(book_dir):\n",
    "    for author in os.listdir(book_dir + '/' + language):\n",
    "        for title in os.listdir(book_dir + '/' + language + '/' + author):\n",
    "            title_path = book_dir + '/' + language + '/' + author + '/' + title\n",
    "            with open(title_path, 'r', encoding='utf8') as current_file:\n",
    "                text = current_file.read()\n",
    "                text = text.replace('\\n', ' ').replace('\\r', ' ') # remove the backspaces\n",
    "                text = text.lower()    # turn every letter into lower case\n",
    "                skip_list = [',', '.', ':', ';', '?', '!', '\"', \"'\", \"-\", \"(\", \")\", \"{\", \"}\",\n",
    "                            '1', '2', '3', '4', '5', '6', '7', '8', '9', '9']\n",
    "                for ch in skip_list:\n",
    "                    text = text.replace(ch, '')\n",
    "                word_counts = {}  # save unique words and frequencies in a dictionary\n",
    "                for word in text.split(' '):\n",
    "                    if word in word_counts:\n",
    "                        word_counts[word] += 1\n",
    "                    else:\n",
    "                        word_counts[word] = 1\n",
    "\n",
    "count_result = pd.DataFrame(list(word_counts.items()), columns=['words', 'freq'])\n",
    "\n",
    "print(count_result)"
   ]
  },
  {
   "cell_type": "code",
   "execution_count": null,
   "metadata": {
    "collapsed": true
   },
   "outputs": [],
   "source": []
  }
 ],
 "metadata": {
  "kernelspec": {
   "display_name": "Python 3",
   "language": "python",
   "name": "python3"
  },
  "language_info": {
   "codemirror_mode": {
    "name": "ipython",
    "version": 3
   },
   "file_extension": ".py",
   "mimetype": "text/x-python",
   "name": "python",
   "nbconvert_exporter": "python",
   "pygments_lexer": "ipython3",
   "version": "3.6.1"
  }
 },
 "nbformat": 4,
 "nbformat_minor": 2
}
